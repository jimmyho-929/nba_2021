{
 "cells": [
  {
   "cell_type": "markdown",
   "metadata": {},
   "source": [
    "# The Evolution of the 3 point shot"
   ]
  },
  {
   "cell_type": "code",
   "execution_count": 1,
   "metadata": {},
   "outputs": [],
   "source": [
    "import pandas as pd\n",
    "import numpy as np\n",
    "import matplotlib.pyplot as plt\n",
    "stats_df = pd.read_csv('dataset/nba_team_stats_00_to_21.csv');\n",
    "df_3PAavg = stats_df.groupby('SEASON')['_3PA'].aggregate(np.mean);\n",
    "df_3PA = pd.DataFrame(df_3PAavg);\n",
    "df_3PA.reset_index(inplace=True)"
   ]
  },
  {
   "cell_type": "markdown",
   "metadata": {},
   "source": [
    "# From the start of the 2000-01 NBA season, how much has the 3pt shot increased?\n"
   ]
  },
  {
   "cell_type": "code",
   "execution_count": 4,
   "metadata": {},
   "outputs": [
    {
     "data": {
      "image/png": "[encoded data removed]",
      "text/plain": "<Figure size 432x288 with 1 Axes>"
     },
     "metadata": {
      "needs_background": "light"
     },
     "output_type": "display_data"
    }
   ],
   "source": [
    "df_3PA.columns=['SEASON', '3PA']\n",
    "df_3PA.plot(x='SEASON', y='3PA', rot=45, title='NBA 3pt Attempts By Season (Mean)')\n",
    "plt.xticks(np.arange(0,21, step=1), df_3PA.SEASON.unique())\n",
    "plt.xlim([0, 21])\n",
    "plt.ylim([0, 40])\n",
    "plt.show()"
   ]
  },
  {
   "cell_type": "markdown",
   "metadata": {},
   "source": [
    "## 2006-07 Season\n",
    "The first noticing point of increase is from the 2006-07 season. From 2000-01 to 2006-07, it increased from ~13 to ~18 attempts per game. During that season, the player that took the most attempts was Gilbert Arenas.\n",
    "\n",
    "<!-- Import 2006-07 player stats to show top 5 players with highest 3PA\n",
    "-->"
   ]
  },
  {
   "cell_type": "code",
   "execution_count": 37,
   "metadata": {},
   "outputs": [
    {
     "name": "stdout",
     "output_type": "stream",
     "text": [
      "             Player   Tm   3P   3P%   _3PA  Games    _3PA_g\n",
      "15   Gilbert Arenas  WAS  205  .351  584.0   74.0  7.891892\n",
      "7      Rafer Alston  HOU  192  .363  529.0   82.0  6.451220\n",
      "334     Mike Miller  MEM  202  .406  498.0   70.0  7.114286\n",
      "39        Raja Bell  PHO  205  .413  496.0   78.0  6.358974\n",
      "40       Mike Bibby  SAC  173  .360  481.0   82.0  5.865854\n"
     ]
    }
   ],
   "source": [
    "def player_stats(year):\n",
    "    url = f'https://www.basketball-reference.com/leagues/NBA_{year}_totals.html'\n",
    "    dfs = pd.read_html(url)\n",
    "    df2 = dfs[0]\n",
    "    df = df2[['Player','Tm','G','3P','3PA','3P%']]\n",
    "    df = df.assign(_3PA = pd.to_numeric(df['3PA'], errors='coerce'))\n",
    "    df = df.assign(Games = pd.to_numeric(df['G'], errors='coerce'))\n",
    "    df = df.assign(_3PA_g = df['_3PA']/df['Games'])\n",
    "    df = df.drop(columns=['3PA', 'G'])\n",
    "    df = df.sort_values(by=['_3PA'], ascending=False)\n",
    "    print(df.head())\n",
    "    \n",
    "player_stats(2007)"
   ]
  },
  {
   "cell_type": "markdown",
   "metadata": {},
   "source": [
    "\n",
    "<!-- Import 2010-11 2011-12 player stats. show top 3pt stats and see the name differences between the 2 \n",
    "-->\n",
    "\n",
    "## 2011-12 Season\n",
    "However, it was the 2011-12 season that was the catalyst of the 3 point evolution. During that season, Ryan Anderson took the most attempts. Steph Curry at the time was injured and averaged 4.7 3's through 26 games played. "
   ]
  },
  {
   "cell_type": "code",
   "execution_count": 38,
   "metadata": {},
   "outputs": [
    {
     "name": "stdout",
     "output_type": "stream",
     "text": [
      "               Player   Tm   3P   3P%   _3PA  Games    _3PA_g\n",
      "15      Ryan Anderson  ORL  166  .393  422.0   61.0  6.918033\n",
      "290  Brandon Jennings  MIL  129  .332  388.0   66.0  5.878788\n",
      "484       Jason Terry  DAL  138  .378  365.0   63.0  5.793651\n",
      "143      Kevin Durant  OKC  133  .387  344.0   66.0  5.212121\n",
      "546    Deron Williams  NJN  115  .336  342.0   55.0  6.218182\n"
     ]
    }
   ],
   "source": [
    "player_stats(2012)"
   ]
  },
  {
   "cell_type": "markdown",
   "metadata": {},
   "source": [
    "## 2012-13 Season\n",
    "The following season, Curry lead the league in 3's at 7.7/game with a shooting percentage at .453%! Teammate Klay Thompson was 3rd on the list at 6.4/game with a .401% percentage.\n",
    "\n",
    "<!-- Show analysis of the 14-15 15-16 and 16-17 17-18 seasons as they have the largest span in increase from prior season\n",
    "-->"
   ]
  },
  {
   "cell_type": "code",
   "execution_count": 39,
   "metadata": {},
   "outputs": [
    {
     "name": "stdout",
     "output_type": "stream",
     "text": [
      "             Player   Tm   3P   3P%   _3PA  Games    _3PA_g\n",
      "123   Stephen Curry  GSW  272  .453  600.0   78.0  7.692308\n",
      "21    Ryan Anderson  NOH  213  .382  557.0   81.0  6.876543\n",
      "529   Klay Thompson  GSW  211  .401  526.0   82.0  6.414634\n",
      "329  Damian Lillard  POR  185  .368  503.0   82.0  6.134146\n",
      "216    James Harden  HOU  179  .368  486.0   78.0  6.230769\n"
     ]
    }
   ],
   "source": [
    "player_stats(2013)"
   ]
  },
  {
   "cell_type": "markdown",
   "metadata": {},
   "source": [
    "## 2014-15 Season\n",
    "Splash Bros were lighting up the league. Steph Curry won Most Value Player this season"
   ]
  },
  {
   "cell_type": "code",
   "execution_count": 42,
   "metadata": {},
   "outputs": [
    {
     "name": "stdout",
     "output_type": "stream",
     "text": [
      "             Player   Tm   3P   3P%   _3PA  Games    _3PA_g\n",
      "140   Stephen Curry  GSW  286  .443  646.0   80.0  8.075000\n",
      "364  Damian Lillard  POR  196  .343  572.0   82.0  6.975610\n",
      "261    James Harden  HOU  208  .375  555.0   81.0  6.851852\n",
      "26     Trevor Ariza  HOU  194  .350  555.0   82.0  6.768293\n",
      "603   Klay Thompson  GSW  239  .439  545.0   77.0  7.077922\n"
     ]
    }
   ],
   "source": [
    "player_stats(2015)"
   ]
  },
  {
   "cell_type": "markdown",
   "metadata": {},
   "source": [
    "## 2015-16 Season\n",
    "Curry was averaging over 11 3PA per game! "
   ]
  },
  {
   "cell_type": "code",
   "execution_count": 43,
   "metadata": {},
   "outputs": [
    {
     "name": "stdout",
     "output_type": "stream",
     "text": [
      "             Player   Tm   3P   3P%   _3PA  Games     _3PA_g\n",
      "121   Stephen Curry  GSW  402  .454  886.0   79.0  11.215190\n",
      "214    James Harden  HOU  236  .359  657.0   82.0   8.012195\n",
      "537   Klay Thompson  GSW  276  .425  650.0   80.0   8.125000\n",
      "338  Damian Lillard  POR  229  .375  610.0   75.0   8.133333\n",
      "183     Paul George  IND  210  .371  566.0   81.0   6.987654\n"
     ]
    }
   ],
   "source": [
    "player_stats(2016)"
   ]
  },
  {
   "cell_type": "code",
   "execution_count": 6,
   "metadata": {},
   "outputs": [],
   "source": [
    "stats_df = pd.read_csv('dataset/nba_team_stats_00_to_21.csv', usecols=['TEAM', 'PTS', '_3PM', 'FTM', 'SEASON'])\n",
    "\n",
    "series_3PM = stats_df['_3PM']\n",
    "series_FTM = stats_df['FTM']\n",
    "series_PTS = stats_df['PTS']\n",
    "\n",
    "stats_df = stats_df.assign(Pts_from_3 = series_3PM * 3, Pts_from_FT = series_FTM * 1)\n",
    "stats_df = stats_df.assign(Pts_from_2 = series_PTS - stats_df['Pts_from_3'] - stats_df['Pts_from_FT'])\n",
    "\n",
    "# create new series calculating point percentage and adds to dataframe\n",
    "def percentage(category):\n",
    "    return stats_df[category] / series_PTS * 100\n",
    "\n",
    "stats_df = stats_df.assign(PTSpct_from_3 = percentage('Pts_from_3'))\n",
    "stats_df = stats_df.assign(PTSpct_from_FT = percentage('Pts_from_FT'))\n",
    "stats_df = stats_df.assign(PTSpct_from_2 = percentage('Pts_from_2'))\n",
    "\n",
    "def szn_avg_df(series):\n",
    "    return stats_df.groupby('SEASON')[series].aggregate(np.mean)\n",
    "\n",
    "# calculate NBA mean percentage by season. NOTE: Totals do not add up to 100%; earlier seasons are under 100% and more recent seasons are over 100%\n",
    "PTSpcnt_by_3_avg = szn_avg_df('Pts_from_3')\n",
    "PTSpcnt_by_FT_avg = szn_avg_df('Pts_from_FT')\n",
    "PTSpcnt_by_2_avg = szn_avg_df('Pts_from_2')\n",
    "PTSpcnt_by_FT_avg.name = 'By FT'\n",
    "PTSpcnt_by_3_avg.name = 'By 3'\n",
    "PTSpcnt_by_2_avg.name = 'By 2'\n"
   ]
  },
  {
   "cell_type": "markdown",
   "metadata": {},
   "source": [
    "# What percentage of the total points scored per game come from 3's compared to free throws and 2 point shots?"
   ]
  },
  {
   "cell_type": "code",
   "execution_count": 7,
   "metadata": {},
   "outputs": [
    {
     "data": {
      "image/png": "[encoded data removed]",
      "text/plain": "<Figure size 432x288 with 1 Axes>"
     },
     "metadata": {
      "needs_background": "light"
     },
     "output_type": "display_data"
    }
   ],
   "source": [
    "df_avg = pd.concat([PTSpcnt_by_FT_avg, PTSpcnt_by_2_avg, PTSpcnt_by_3_avg], axis=1)\n",
    "df_avg.plot.bar(title='NBA Mean Percentage Of Points Scored By Category').legend(loc='best',bbox_to_anchor=(1.0, 0.5))\n",
    "plt.show()\n"
   ]
  },
  {
   "cell_type": "markdown",
   "metadata": {},
   "source": [
    "# How do the teams differ in 3 point attempts compared to total field goals?"
   ]
  },
  {
   "cell_type": "code",
   "execution_count": 35,
   "metadata": {},
   "outputs": [],
   "source": [
    "import re\n",
    "\n",
    "season = input('From the 2000 to 2021 season, which season would you like to see the percentage of 3pt attempts compared to total shot attempts? (ex: 2000-01) ')\n",
    "pattern = re.compile('^20[0-2][0-9]\\-[0-2][0-9]')\n",
    "\n",
    "if season == '2020-21':\n",
    "    print('The data from  this season is missing. Try a different season.')\n",
    "    \n",
    "elif pattern.match(season):\n",
    "    # import dataset with specific columns\n",
    "    stats_df = pd.read_csv('dataset/nba_team_stats_00_to_21.csv', usecols=['TEAM', '_3PA', 'FGA', 'SEASON'])\n",
    "\n",
    "    # select series\n",
    "    series_3PA = stats_df['_3PA']\n",
    "    series_FGA = stats_df['FGA']\n",
    "\n",
    "    # create new series and add to dataframe\n",
    "    stats_df = stats_df.assign(Threes_Att_Pcnt = (series_3PA / series_FGA) * 100)\n",
    "    stats_df = stats_df.assign(Twos_Att_Pcnt = 100 - stats_df['Threes_Att_Pcnt'])\n",
    "\n",
    "    # filter dataframe by user input\n",
    "    df_shot_attempts = stats_df.loc[stats_df['SEASON'] == season, :]\n",
    "\n",
    "    # create new dataframe \n",
    "    df_shot_attempts = pd.DataFrame(df_shot_attempts, columns=['TEAM', 'Threes_Att_Pcnt', 'Twos_Att_Pcnt'])\n",
    "\n",
    "    df_shot_attempts.plot.bar(x='TEAM', stacked=True, title=f'3pt Attempts Vs. 2pt Attempts {season} Season')\n",
    "    plt.show()\n",
    "    \n",
    "else:\n",
    "    print(f'{season} was entered incorrectly. Try again.')"
   ]
  },
  {
   "cell_type": "code",
   "execution_count": null,
   "metadata": {},
   "outputs": [],
   "source": []
  },
  {
   "cell_type": "code",
   "execution_count": null,
   "metadata": {},
   "outputs": [],
   "source": []
  },
  {
   "cell_type": "code",
   "execution_count": null,
   "metadata": {},
   "outputs": [],
   "source": []
  }
 ],
 "metadata": {
  "kernelspec": {
   "display_name": "Python 3.9.7 64-bit ('anaconda3': virtualenv)",
   "name": "python397jvsc74a57bd0eb1e0738eec63f667463c51991435126e28360f39dd162e6f7bb48ea258805dc"
  },
  "language_info": {
   "codemirror_mode": {
    "name": "ipython",
    "version": 3
   },
   "file_extension": ".py",
   "mimetype": "text/x-python",
   "name": "python",
   "nbconvert_exporter": "python",
   "pygments_lexer": "ipython3",
   "version": "3.9.7"
  },
  "metadata": {
   "interpreter": {
    "hash": "eb1e0738eec63f667463c51991435126e28360f39dd162e6f7bb48ea258805dc"
   }
  },
  "orig_nbformat": 3
 },
 "nbformat": 4,
 "nbformat_minor": 5
}